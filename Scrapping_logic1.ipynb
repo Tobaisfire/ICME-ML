{
 "cells": [
  {
   "cell_type": "code",
   "execution_count": 3,
   "metadata": {},
   "outputs": [],
   "source": [
    "import requests\n",
    "from bs4 import BeautifulSoup as bs"
   ]
  },
  {
   "cell_type": "code",
   "execution_count": 4,
   "metadata": {},
   "outputs": [
    {
     "name": "stdout",
     "output_type": "stream",
     "text": [
      " Year 1995 has 365 dataset\n"
     ]
    }
   ],
   "source": [
    "year = \"1995\"\n",
    "url =f'https://cdaweb.gsfc.nasa.gov/pub/data/wind/swe/swe_h1/{year}'\n",
    "\n",
    "dataset_response = requests.get(url)\n",
    "name_list = [i.text for i in bs(dataset_response.content).find_all('td') if i.text[-3:] =='cdf']\n",
    "\n",
    "print(f\" Year {year} has {len(name_list)} dataset\")\n"
   ]
  },
  {
   "cell_type": "code",
   "execution_count": null,
   "metadata": {},
   "outputs": [],
   "source": [
    "import requests\n",
    "from concurrent.futures import ThreadPoolExecutor\n",
    "import math\n",
    "\n",
    "MAX_RETRIES = 3  \n",
    "def download_file(name):\n",
    "    retries = 0\n",
    "    while retries < MAX_RETRIES:\n",
    "        try:\n",
    "            response = requests.get(f'https://cdaweb.gsfc.nasa.gov/pub/data/wind/swe/swe_h1/{year}/{name}')\n",
    "            if response.status_code == 200:\n",
    "                with open(f'download\\\\{year}\\\\{name}', 'wb') as fp:\n",
    "                    fp.write(response.content)\n",
    "                print(f\"Downloaded: {name}\")\n",
    "\n",
    "                break\n",
    "            else:\n",
    "                print(f\"Error downloading {name}: Got status code {response.status_code}\")\n",
    "        except Exception as e:\n",
    "            print(f\"Error downloading {name}: {e}\")\n",
    "        \n",
    "        retries += 1\n",
    "        print(f\"Retrying ({retries}/{MAX_RETRIES})...\")\n",
    "    \n",
    "\n",
    "\n",
    "progress = len(name_list)\n",
    "def download_files_with_threadpool(name_list, max_workers=10):\n",
    "    chunk_size = math.ceil(len(name_list) / max_workers)\n",
    "    chunks = [name_list[i:i+chunk_size] for i in range(0, len(name_list), chunk_size)]\n",
    "\n",
    "    with ThreadPoolExecutor(max_workers=max_workers) as executor:\n",
    "        for chunk in chunks:\n",
    "            executor.map(download_file, chunk)\n",
    "\n",
    "\n",
    "download_files_with_threadpool(name_list, max_workers=10)\n"
   ]
  },
  {
   "cell_type": "code",
   "execution_count": null,
   "metadata": {},
   "outputs": [],
   "source": [
    "# import requests\n",
    "# from concurrent.futures import ThreadPoolExecutor\n",
    "\n",
    "\n",
    "\n",
    "# def download_file(name):\n",
    "#     try:\n",
    "#         response = requests.get(f'https://cdaweb.gsfc.nasa.gov/pub/data/wind/swe/swe_h1/{year}/{name}')\n",
    "#         with open(f'download\\\\{year}\\\\{name}', 'wb') as fp:\n",
    "#             fp.write(response.content)\n",
    "        \n",
    "#         print(f\"Downloaded: {name}\")\n",
    "#     except Exception as e:\n",
    "#         print(f\"Error downloading {name}: {e}\")\n",
    "\n",
    "# def download_files_with_threadpool(name_list):\n",
    "#     with ThreadPoolExecutor() as executor:\n",
    "#         executor.map(download_file, name_list)\n",
    "\n",
    "# download_files_with_threadpool(name_list)\n"
   ]
  },
  {
   "cell_type": "code",
   "execution_count": 6,
   "metadata": {},
   "outputs": [],
   "source": [
    "#combine\n",
    "\n",
    "import os\n",
    "from modules.combine_cdf import *\n",
    "import cdflib\n",
    "import spacepy.pycdf as pycdf\n",
    "\n",
    "\n",
    "def make_cdf(path,combined_cdf):\n",
    "\n",
    "    cdf_file_combined = pycdf.CDF(path, '')\n",
    "\n",
    "\n",
    "    for var_name, var_data in combined_cdf.items():\n",
    "        cdf_file_combined[var_name] = var_data\n",
    "\n",
    "    cdf_file_combined.close()\n",
    "\n",
    "cyear = '2003'\n",
    "lisdir = os.listdir(f'download//{cyear}')\n",
    "for cdfs in range(len(lisdir)):\n",
    "  \n",
    "    cdf1,cdf2,cdf3 = cdflib.CDF(f'download//{cyear}/{lisdir[cdfs]}'),cdflib.CDF(f'download//{cyear}/{lisdir[cdfs+1]}'),cdflib.CDF(f'download//{cyear}/{lisdir[cdfs+2]}')\n",
    "    path = f\"download//combined//{cyear}/wi_h1_swe_{lisdir[cdfs].split(\"_\")[3]} - {lisdir[cdfs+2].split(\"_\")[3]}.cdf\"\n",
    "    \n",
    "    # print(len(cdf1['BX']),len(cdf2['BX']),len(cdf3['BX']))\n",
    "    result_cdf = merge_cdf(cdf1,cdf2,cdf3)\n",
    "    combined_cdf = make_cdf(path,result_cdf)\n",
    "\n",
    "    if cdfs+2 ==len(lisdir)-1:\n",
    "        break\n",
    "    \n",
    " \n",
    "\n",
    "        "
   ]
  },
  {
   "cell_type": "markdown",
   "metadata": {},
   "source": [
    "# testing plot"
   ]
  },
  {
   "cell_type": "code",
   "execution_count": 18,
   "metadata": {},
   "outputs": [
    {
     "name": "stdout",
     "output_type": "stream",
     "text": [
      "20030101 - 20030103\n",
      "20030102 - 20030104\n",
      "20030103 - 20030105\n",
      "20030104 - 20030106\n",
      "20030105 - 20030107\n",
      "20030106 - 20030108\n",
      "20030107 - 20030109\n",
      "20030108 - 20030110\n",
      "20030109 - 20030111\n",
      "20030110 - 20030112\n"
     ]
    }
   ],
   "source": [
    "import cdflib\n",
    "from modules.calparam import *\n",
    "import os\n",
    "from modules.plotter import Plotting\n",
    "import matplotlib.pyplot as plt\n",
    "import concurrent.futures\n",
    "\n",
    "\n",
    "plt.ioff()\n",
    "def process_file(cdf_file_name):\n",
    "    plt_name = cdf_file_name.split(\"_\")[-1].split(\".\")[0]\n",
    "    plt_ad = 'download//PLOT//2003'\n",
    "    print(plt_name)\n",
    "    cdf_file = cdflib.CDF(f'download//combined//2003/{cdf_file_name}')\n",
    "\n",
    "    time_range= cdflib.cdfepoch.to_datetime(cdf_file.varget('epoch'))\n",
    "    BX,BY,BZ,b_mag = bmagnitude(cdf_file)\n",
    "    p_density = thresold(cdf_file.varget('Proton_Np_moment'),1e4)\n",
    "    vp = Vp_vec(cdf_file)\n",
    "    temp = Temperature(cdf_file)\n",
    "    p_beta = plasma_beta(p_density,b_mag,temp)\n",
    "    tehta_angle,phi_angle = angels(BX,BY,BZ,b_mag)\n",
    "\n",
    "    plot  = Plotting(plt_name,plt_ad)\n",
    "\n",
    "    plot.ipplot(time_range,b_mag,BX,BY,BZ,tehta_angle,phi_angle,vp,p_density,temp,p_beta)\n",
    "\n",
    "lis_dir = os.listdir(r'download\\combined\\2003')\n",
    "\n",
    "# Use ThreadPoolExecutor to parallelize processing and plotting tasks\n",
    "# with concurrent.futures.ThreadPoolExecutor(10) as executor:\n",
    "#     executor.map(process_file, lis_dir)\n",
    "# lis_dir\n",
    "for cdf_file_path in lis_dir:\n",
    "    process_file(cdf_file_path)"
   ]
  },
  {
   "cell_type": "code",
   "execution_count": 9,
   "metadata": {},
   "outputs": [],
   "source": [
    "\n",
    "# from modules.plotter import Plotting\n",
    "# cdf_file = cdflib.CDF(r'download\\\\2003\\\\wi_h1_swe_20031021_v01.cdf')\n",
    "\n",
    "# time_range= cdflib.cdfepoch.to_datetime(cdf_file.varget('epoch'))\n",
    "# BX,BY,BZ,b_mag = bmagnitude(cdf_file)\n",
    "# p_density = thresold(cdf_file.varget('Proton_Np_moment'),1e4)\n",
    "# vp = Vp_vec(cdf_file)\n",
    "# temp = Temperature(cdf_file)\n",
    "# p_beta = plasma_beta(p_density,b_mag,temp)\n",
    "# tehta_angle,phi_angle = angels(BX,BY,BZ,b_mag)\n",
    "# plot  = Plotting(\"test\")\n",
    "# plot.ipplot(\"test\",time_range,b_mag,BX,BY,BZ,tehta_angle,phi_angle,vp,p_density,temp,p_beta)"
   ]
  },
  {
   "cell_type": "code",
   "execution_count": null,
   "metadata": {},
   "outputs": [],
   "source": []
  }
 ],
 "metadata": {
  "kernelspec": {
   "display_name": "swe_ip",
   "language": "python",
   "name": "python3"
  },
  "language_info": {
   "codemirror_mode": {
    "name": "ipython",
    "version": 3
   },
   "file_extension": ".py",
   "mimetype": "text/x-python",
   "name": "python",
   "nbconvert_exporter": "python",
   "pygments_lexer": "ipython3",
   "version": "3.12.2"
  }
 },
 "nbformat": 4,
 "nbformat_minor": 2
}
