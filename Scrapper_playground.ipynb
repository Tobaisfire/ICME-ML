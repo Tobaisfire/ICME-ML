{
 "cells": [
  {
   "cell_type": "code",
   "execution_count": 5,
   "metadata": {},
   "outputs": [
    {
     "name": "stdout",
     "output_type": "stream",
     "text": [
      "Year 1994 has 44 dataset\n"
     ]
    }
   ],
   "source": [
    "#Scrapping Start\n",
    "\n",
    "from modules.scrapper_logic1 import  Scrapper1\n",
    "\n",
    "task = Scrapper1.get_list(1994)\n",
    "path = 'download/'\n",
    "year='1994'"
   ]
  },
  {
   "cell_type": "code",
   "execution_count": null,
   "metadata": {},
   "outputs": [],
   "source": [
    "#scrapper call\n",
    "import os\n",
    "\n",
    "\n",
    "\n",
    "Scrapper1.run('1994',task,path)"
   ]
  },
  {
   "cell_type": "code",
   "execution_count": 4,
   "metadata": {},
   "outputs": [],
   "source": [
    "if not os.path.exists(f'{path}/{year}'):\n",
    "    os.makedirs(f'{path}/{year}')"
   ]
  },
  {
   "cell_type": "code",
   "execution_count": 2,
   "metadata": {},
   "outputs": [],
   "source": [
    "#combine\n",
    "\n",
    "import os\n",
    "from modules.combine_cdf import *\n",
    "import cdflib\n",
    "\n",
    "\n",
    "cyear = '1994'\n",
    "lisdir = os.listdir(f'download//{cyear}')\n",
    "\n",
    "for cdfs in range(len(lisdir)):\n",
    "    \n",
    "    cdf1,cdf2,cdf3 = cdflib.CDF(f'download//{cyear}/{lisdir[cdfs]}'),cdflib.CDF(f'download//{cyear}/{lisdir[cdfs+1]}'),cdflib.CDF(f'download//{cyear}/{lisdir[cdfs+2]}')\n",
    " \n",
    "    path = f\"download//combined//{cyear}/wi_h1_swe_{lisdir[cdfs].split(\"_\")[3]} - {lisdir[cdfs+2].split(\"_\")[3]}.cdf\"\n",
    "    \n",
    "    # print(len(cdf1['BX']),len(cdf2['BX']),len(cdf3['BX']))\n",
    "    result_cdf = merge_cdf(cdf1,cdf2,cdf3)\n",
    "    combined_cdf = make_cdf(path,result_cdf)\n",
    "\n",
    "    if cdfs+2 ==len(lisdir)-1:\n",
    "        break\n",
    "    \n",
    "   \n",
    "\n",
    "        "
   ]
  },
  {
   "cell_type": "markdown",
   "metadata": {},
   "source": [
    "# testing plot"
   ]
  },
  {
   "cell_type": "code",
   "execution_count": 3,
   "metadata": {},
   "outputs": [
    {
     "name": "stdout",
     "output_type": "stream",
     "text": [
      "19941117 - 19941119\n",
      "19941118 - 19941121\n",
      "19941119 - 19941122\n",
      "19941121 - 19941123\n",
      "19941122 - 19941124\n",
      "19941123 - 19941125\n",
      "19941124 - 19941126\n",
      "19941125 - 19941127\n",
      "19941126 - 19941128\n",
      "19941127 - 19941129\n",
      "19941128 - 19941130\n",
      "19941129 - 19941201\n",
      "19941130 - 19941202\n",
      "19941201 - 19941203\n",
      "19941202 - 19941204\n",
      "19941203 - 19941205\n",
      "19941204 - 19941206\n",
      "19941205 - 19941207\n",
      "19941206 - 19941208\n",
      "19941207 - 19941209\n",
      "19941208 - 19941210\n",
      "19941209 - 19941211\n",
      "19941210 - 19941212\n",
      "19941211 - 19941213\n",
      "19941212 - 19941214\n",
      "19941213 - 19941215\n",
      "19941214 - 19941216\n",
      "19941215 - 19941217\n",
      "19941216 - 19941218\n",
      "19941217 - 19941219\n",
      "19941218 - 19941220\n",
      "19941219 - 19941221\n",
      "19941220 - 19941222\n",
      "19941221 - 19941223\n",
      "19941222 - 19941224\n",
      "19941223 - 19941225\n",
      "19941224 - 19941226\n",
      "19941225 - 19941227\n",
      "19941226 - 19941228\n",
      "19941227 - 19941229\n",
      "19941228 - 19941230\n",
      "19941229 - 19941231\n"
     ]
    }
   ],
   "source": [
    "import cdflib\n",
    "from modules.calparam import *\n",
    "import os\n",
    "from modules.plotter import Plotting\n",
    "import matplotlib.pyplot as plt\n",
    "import concurrent.futures\n",
    "\n",
    "\n",
    "plt.ioff()\n",
    "def process_file(cdf_file_name):\n",
    "    plt_name = cdf_file_name.split(\"_\")[-1].split(\".\")[0]\n",
    "    plt_ad = 'download//PLOT//1994'\n",
    "    print(plt_name)\n",
    "    cdf_file = cdflib.CDF(f'download//combined//1994/{cdf_file_name}')\n",
    "\n",
    "    time_range= cdflib.cdfepoch.to_datetime(cdf_file.varget('epoch'))\n",
    "    BX,BY,BZ,b_mag = bmagnitude(cdf_file)\n",
    "    p_density = thresold(cdf_file.varget('Proton_Np_moment'),1e4)\n",
    "    vp = Vp_vec(cdf_file)\n",
    "    temp = Temperature(cdf_file)\n",
    "    p_beta = plasma_beta(p_density,b_mag,temp)\n",
    "    tehta_angle,phi_angle = angels(BX,BY,BZ,b_mag)\n",
    "\n",
    "    plot  = Plotting(plt_name,plt_ad)\n",
    "\n",
    "    plot.ipplot(time_range,b_mag,BX,BY,BZ,tehta_angle,phi_angle,vp,p_density,temp,p_beta)\n",
    "\n",
    "lis_dir = os.listdir(r'download\\combined\\1994')\n",
    "\n",
    "# Use ThreadPoolExecutor to parallelize processing and plotting tasks\n",
    "# with concurrent.futures.ThreadPoolExecutor(10) as executor:\n",
    "#     executor.map(process_file, lis_dir)\n",
    "# lis_dir\n",
    "for cdf_file_path in lis_dir:\n",
    "    process_file(cdf_file_path)"
   ]
  },
  {
   "cell_type": "code",
   "execution_count": 9,
   "metadata": {},
   "outputs": [],
   "source": [
    "\n",
    "# from modules.plotter import Plotting\n",
    "# cdf_file = cdflib.CDF(r'download\\\\2003\\\\wi_h1_swe_20031021_v01.cdf')\n",
    "\n",
    "# time_range= cdflib.cdfepoch.to_datetime(cdf_file.varget('epoch'))\n",
    "# BX,BY,BZ,b_mag = bmagnitude(cdf_file)\n",
    "# p_density = thresold(cdf_file.varget('Proton_Np_moment'),1e4)\n",
    "# vp = Vp_vec(cdf_file)\n",
    "# temp = Temperature(cdf_file)\n",
    "# p_beta = plasma_beta(p_density,b_mag,temp)\n",
    "# tehta_angle,phi_angle = angels(BX,BY,BZ,b_mag)\n",
    "# plot  = Plotting(\"test\")\n",
    "# plot.ipplot(\"test\",time_range,b_mag,BX,BY,BZ,tehta_angle,phi_angle,vp,p_density,temp,p_beta)"
   ]
  },
  {
   "cell_type": "code",
   "execution_count": 8,
   "metadata": {},
   "outputs": [],
   "source": [
    "import os\n",
    "\n",
    "lis = os.listdir(f'download\\\\combined\\\\1994')"
   ]
  },
  {
   "cell_type": "code",
   "execution_count": 9,
   "metadata": {},
   "outputs": [
    {
     "data": {
      "text/plain": [
       "['wi_h1_swe_19941117 - 19941119.cdf',\n",
       " 'wi_h1_swe_19941118 - 19941121.cdf',\n",
       " 'wi_h1_swe_19941119 - 19941122.cdf',\n",
       " 'wi_h1_swe_19941121 - 19941123.cdf',\n",
       " 'wi_h1_swe_19941122 - 19941124.cdf',\n",
       " 'wi_h1_swe_19941123 - 19941125.cdf',\n",
       " 'wi_h1_swe_19941124 - 19941126.cdf',\n",
       " 'wi_h1_swe_19941125 - 19941127.cdf',\n",
       " 'wi_h1_swe_19941126 - 19941128.cdf',\n",
       " 'wi_h1_swe_19941127 - 19941129.cdf',\n",
       " 'wi_h1_swe_19941128 - 19941130.cdf',\n",
       " 'wi_h1_swe_19941129 - 19941201.cdf',\n",
       " 'wi_h1_swe_19941130 - 19941202.cdf',\n",
       " 'wi_h1_swe_19941201 - 19941203.cdf',\n",
       " 'wi_h1_swe_19941202 - 19941204.cdf',\n",
       " 'wi_h1_swe_19941203 - 19941205.cdf',\n",
       " 'wi_h1_swe_19941204 - 19941206.cdf',\n",
       " 'wi_h1_swe_19941205 - 19941207.cdf',\n",
       " 'wi_h1_swe_19941206 - 19941208.cdf',\n",
       " 'wi_h1_swe_19941207 - 19941209.cdf',\n",
       " 'wi_h1_swe_19941208 - 19941210.cdf',\n",
       " 'wi_h1_swe_19941209 - 19941211.cdf',\n",
       " 'wi_h1_swe_19941210 - 19941212.cdf',\n",
       " 'wi_h1_swe_19941211 - 19941213.cdf',\n",
       " 'wi_h1_swe_19941212 - 19941214.cdf',\n",
       " 'wi_h1_swe_19941213 - 19941215.cdf',\n",
       " 'wi_h1_swe_19941214 - 19941216.cdf',\n",
       " 'wi_h1_swe_19941215 - 19941217.cdf',\n",
       " 'wi_h1_swe_19941216 - 19941218.cdf',\n",
       " 'wi_h1_swe_19941217 - 19941219.cdf',\n",
       " 'wi_h1_swe_19941218 - 19941220.cdf',\n",
       " 'wi_h1_swe_19941219 - 19941221.cdf',\n",
       " 'wi_h1_swe_19941220 - 19941222.cdf',\n",
       " 'wi_h1_swe_19941221 - 19941223.cdf',\n",
       " 'wi_h1_swe_19941222 - 19941224.cdf',\n",
       " 'wi_h1_swe_19941223 - 19941225.cdf',\n",
       " 'wi_h1_swe_19941224 - 19941226.cdf',\n",
       " 'wi_h1_swe_19941225 - 19941227.cdf',\n",
       " 'wi_h1_swe_19941226 - 19941228.cdf',\n",
       " 'wi_h1_swe_19941227 - 19941229.cdf',\n",
       " 'wi_h1_swe_19941228 - 19941230.cdf',\n",
       " 'wi_h1_swe_19941229 - 19941231.cdf']"
      ]
     },
     "execution_count": 9,
     "metadata": {},
     "output_type": "execute_result"
    }
   ],
   "source": [
    "lis"
   ]
  },
  {
   "cell_type": "code",
   "execution_count": null,
   "metadata": {},
   "outputs": [],
   "source": [
    "for name in lis:\n",
    "\n",
    "    cdf_file = cdflib.CDF(f'download\\\\combined\\\\1994\\\\{name}')\n",
    "    time_range= cdflib.cdfepoch.to_datetime(cdf_file.varget('epoch'))\n",
    "    print(name)\n",
    "    print(len(time_range))"
   ]
  },
  {
   "cell_type": "code",
   "execution_count": null,
   "metadata": {},
   "outputs": [],
   "source": []
  }
 ],
 "metadata": {
  "kernelspec": {
   "display_name": "swe_ip",
   "language": "python",
   "name": "python3"
  },
  "language_info": {
   "codemirror_mode": {
    "name": "ipython",
    "version": 3
   },
   "file_extension": ".py",
   "mimetype": "text/x-python",
   "name": "python",
   "nbconvert_exporter": "python",
   "pygments_lexer": "ipython3",
   "version": "3.12.2"
  }
 },
 "nbformat": 4,
 "nbformat_minor": 2
}
