{
 "cells": [
  {
   "cell_type": "code",
   "execution_count": 1,
   "metadata": {},
   "outputs": [],
   "source": [
    "#Scrapping Start\n",
    "\n",
    "from modules.scrapper_logic1 import  Scrapper1\n",
    "import os\n",
    "from modules.null_dates import *\n",
    "from modules.dummy_func import *\n",
    "from modules.combine_cdf import *\n",
    "from modules.calparam import *\n",
    "import cdflib\n",
    "from modules.plotter import Plotting\n",
    "import matplotlib.pyplot as plt\n",
    "import concurrent.futures\n",
    "from modules.nan_repair import *\n"
   ]
  },
  {
   "cell_type": "code",
   "execution_count": 7,
   "metadata": {},
   "outputs": [
    {
     "name": "stdout",
     "output_type": "stream",
     "text": [
      "Year 1998 has 363 dataset\n"
     ]
    }
   ],
   "source": [
    "'''\n",
    "For scarpping H1 data by year,month,day\n",
    "'''\n",
    "\n",
    "# Scrapper1 -> year,month,start-day,end-day\n",
    "\n",
    "\n",
    "year = '1998'\n",
    "task = Scrapper1.get_list(int(year),'0',0,0)\n",
    "main_path = f'download//{year}'\n",
    "\n",
    "if os.path.exists(main_path):\n",
    "    pass\n",
    "else:\n",
    "    os.makedirs(main_path)\n",
    "\n"
   ]
  },
  {
   "cell_type": "code",
   "execution_count": null,
   "metadata": {},
   "outputs": [],
   "source": [
    "\n",
    "#scrapper call\n",
    "Scrapper1.run(year,task,main_path)"
   ]
  },
  {
   "cell_type": "markdown",
   "metadata": {},
   "source": [
    "# Code -> Dummy logic"
   ]
  },
  {
   "cell_type": "code",
   "execution_count": null,
   "metadata": {},
   "outputs": [],
   "source": [
    "'''\n",
    "For creating dummy cdf if data is not available for any date \n",
    "'''\n",
    "\n",
    "dummy_path = f'{main_path}'\n",
    "\n",
    "#path,year, st_month, ed_month\n",
    "start_month = 1\n",
    "end_month = 12\n",
    "dummy_dates = get_null_dates(dummy_path,int(year), start_month, end_month)\n",
    "\n",
    "print(dummy_dates)\n",
    "\n"
   ]
  },
  {
   "cell_type": "code",
   "execution_count": null,
   "metadata": {},
   "outputs": [],
   "source": [
    "\n",
    "'''\n",
    "write dummy files and save it ot main dataset folder according to Year\n",
    "'''\n",
    "\n",
    "for i in dummy_dates:\n",
    "    yr =int(i[:4])\n",
    "    \n",
    "    month =int(i[4:6])\n",
    "    day = int(i[6:])\n",
    "\n",
    "    get_dummy(day,month,yr,dummy_path)\n",
    "    "
   ]
  },
  {
   "cell_type": "markdown",
   "metadata": {},
   "source": [
    "# Combine Logic"
   ]
  },
  {
   "cell_type": "code",
   "execution_count": 8,
   "metadata": {},
   "outputs": [],
   "source": [
    "#combine\n",
    "\n",
    "\n",
    "'''\n",
    "Combining the dataset according to year provided\n",
    "'''\n",
    "\n",
    "\n",
    "lisdir = os.listdir(f'{main_path}')\n",
    "\n",
    "if os.path.exists(f\"{main_path}//combined//\"):\n",
    "    pass\n",
    "else:\n",
    "    os.makedirs(f\"{main_path}//combined//\")\n",
    "    \n",
    "for cdfs in range(len(lisdir)):\n",
    "    \n",
    "    cdf1,cdf2,cdf3 = cdflib.CDF(f'{main_path}/{lisdir[cdfs]}'),cdflib.CDF(f'{main_path}/{lisdir[cdfs+1]}'),cdflib.CDF(f'{main_path}/{lisdir[cdfs+2]}')\n",
    " \n",
    "    path = f\"{main_path}//combined//wi_h1_swe_{lisdir[cdfs].split(\"_\")[3]} - {lisdir[cdfs+2].split(\"_\")[3]}.cdf\"\n",
    "\n",
    "    result_cdf = merge_cdf(cdf1,cdf2,cdf3)\n",
    "    combined_cdf = make_cdf(path,result_cdf)\n",
    "\n",
    "    if cdfs+2 ==len(lisdir)-1:\n",
    "        break\n",
    "    \n",
    "   \n",
    "\n",
    "        "
   ]
  },
  {
   "cell_type": "markdown",
   "metadata": {},
   "source": [
    "# Plotting IPPLOT"
   ]
  },
  {
   "cell_type": "code",
   "execution_count": null,
   "metadata": {},
   "outputs": [],
   "source": [
    "\n",
    "'''\n",
    "Plotting the dataset according to year provided\n",
    "'''\n",
    "\n",
    "\n",
    "if os.path.exists(f\"{main_path}//PLOT//\"):\n",
    "    pass\n",
    "else:\n",
    "    os.makedirs(f\"{main_path}//PLOT//\")\n",
    "\n",
    "\n",
    "plt.ioff()\n",
    "def process_file(cdf_file_name):\n",
    "    plt_name = cdf_file_name.split(\"_\")[-1].split(\".\")[0]\n",
    "    plt_ad = f'{main_path}//PLOT/'\n",
    "    print(plt_name)\n",
    "    cdf_file = cdflib.CDF(f'{main_path}//combined/{cdf_file_name}')\n",
    "\n",
    "    time_range= cdflib.cdfepoch.to_datetime(cdf_file.varget('epoch'))\n",
    "\n",
    "\n",
    "    \n",
    "\n",
    "    BX,BY,BZ,b_mag = bmagnitude(cdf_file)\n",
    "    p_density = thresold(cdf_file.varget('Proton_Np_moment'),1e4)\n",
    "    vp = Vp_vec(cdf_file)\n",
    "    temp = Temperature(cdf_file)\n",
    "    p_beta = plasma_beta(p_density,b_mag,temp)\n",
    "    tehta_angle,phi_angle = angels(BX,BY,BZ,b_mag)\n",
    "\n",
    "    if True in np.isnan(cdf_file['BX']):    \n",
    "\n",
    "        BX,BY,BZ,b_mag,p_density,vp,temp,p_beta,tehta_angle,phi_angle = repair_full(cdf_file,\n",
    "                                                                            time_range,\n",
    "                                                                            BX,BY,BZ,\n",
    "                                                                            b_mag,\n",
    "                                                                            p_density,\n",
    "                                                                            vp,temp,\n",
    "                                                                            p_beta,\n",
    "                                                                            tehta_angle,\n",
    "                                                                            phi_angle)\n",
    "    \n",
    "\n",
    "    plot  = Plotting(plt_name,plt_ad)\n",
    "\n",
    "    plot.ipplot(time_range,b_mag,BX,BY,BZ,tehta_angle,phi_angle,vp,p_density,temp,p_beta)\n",
    "\n",
    "lis_dir = os.listdir(f'{main_path}//combined')\n",
    "\n",
    "# Use ThreadPoolExecutor to parallelize processing and plotting tasks\n",
    "\n",
    "# with concurrent.futures.ThreadPoolExecutor(10) as executor:\n",
    "#     executor.map(process_file, lis_dir)\n",
    "\n",
    "for cdf_file in lis_dir:\n",
    "    process_file(cdf_file)\n",
    "\n",
    "\n",
    "\n",
    "    "
   ]
  },
  {
   "cell_type": "markdown",
   "metadata": {},
   "source": [
    "# testing plot"
   ]
  },
  {
   "cell_type": "code",
   "execution_count": 1,
   "metadata": {},
   "outputs": [],
   "source": [
    "import cdflib\n",
    "from modules.plotter import Plotting\n",
    "from modules.calparam import *\n",
    "from modules.nan_repair import *\n",
    "import pandas as pd\n",
    "cdf_file = cdflib.CDF(r'SWE_H1_DATASET\\2003\\wi_h1_swe_20030102_v01.cdf')\n",
    "# path=r'E:\\SWE\\ICME-ML'\n",
    "time_range= cdflib.cdfepoch.to_datetime(cdf_file.varget('epoch'))\n",
    "\n",
    "\n"
   ]
  },
  {
   "cell_type": "code",
   "execution_count": 2,
   "metadata": {},
   "outputs": [],
   "source": [
    "\n",
    "\n",
    "BX,BY,BZ,b_mag = bmagnitude(cdf_file)\n",
    "p_density = thresold(cdf_file.varget('Proton_Np_moment'),1e4)\n",
    "vp = Vp_vec(cdf_file)\n",
    "temp = Temperature(cdf_file)\n",
    "p_beta = plasma_beta(p_density,b_mag,temp)\n",
    "tehta_angle,phi_angle = angels(BX,BY,BZ,b_mag)\n",
    "\n",
    "\n"
   ]
  },
  {
   "cell_type": "code",
   "execution_count": 3,
   "metadata": {},
   "outputs": [],
   "source": [
    "plot  = Plotting(\"2003-01-02\")\n",
    "plot.ipplot(time_range,b_mag,BX,BY,BZ,tehta_angle,phi_angle,vp,p_density,temp,p_beta)"
   ]
  }
 ],
 "metadata": {
  "kernelspec": {
   "display_name": "swe_ip",
   "language": "python",
   "name": "python3"
  },
  "language_info": {
   "codemirror_mode": {
    "name": "ipython",
    "version": 3
   },
   "file_extension": ".py",
   "mimetype": "text/x-python",
   "name": "python",
   "nbconvert_exporter": "python",
   "pygments_lexer": "ipython3",
   "version": "3.12.2"
  }
 },
 "nbformat": 4,
 "nbformat_minor": 2
}
