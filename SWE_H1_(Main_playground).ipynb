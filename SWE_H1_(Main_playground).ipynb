{
 "cells": [
  {
   "cell_type": "markdown",
   "metadata": {},
   "source": []
  },
  {
   "cell_type": "code",
   "execution_count": 1,
   "metadata": {},
   "outputs": [],
   "source": [
    "import pyspedas\n",
    "import pytplot\n",
    "import numpy as np\n",
    "import matplotlib.pyplot as plt\n",
    "import pandas as pd\n",
    "from modules.calparam import *\n",
    "\n",
    "\n",
    "#swe_vars = pyspedas.wind.swe(trange=['2003-11-20','2003-11-23'],datatype='h1',varnames=['BX','BY','BZ','Proton_Np_moment','Proton_W_moment'],downloadonly=True,time_clip=True)"
   ]
  },
  {
   "cell_type": "markdown",
   "metadata": {},
   "source": [
    "**Using CDFLIB**"
   ]
  },
  {
   "cell_type": "code",
   "execution_count": 2,
   "metadata": {},
   "outputs": [],
   "source": [
    "import cdflib\n",
    "dt = \"19941118 - 19941121\"\n",
    "cdf_file = cdflib.CDF(r'download\\combined\\1994\\wi_h1_swe_19941118 - 19941121.cdf')"
   ]
  },
  {
   "cell_type": "code",
   "execution_count": 3,
   "metadata": {},
   "outputs": [
    {
     "data": {
      "text/plain": [
       "CDFInfo(CDF=WindowsPath('E:/SWE/ICME-ML/download/combined/1994/wi_h1_swe_19941118 - 19941121.cdf'), Version='3.9.1', Encoding=6, Majority='Row_major', rVariables=[], zVariables=['Epoch', 'BX', 'BY', 'BZ', 'Proton_VX_moment', 'Proton_VY_moment', 'Proton_VZ_moment', 'Proton_Np_moment', 'Proton_W_moment'], Attributes=[], Copyright='\\nCommon Data Format (CDF)\\nhttps://cdf.gsfc.nasa.gov\\nSpace Physics Data Facility\\nNASA/Goddard Space Flight Center\\nGreenbelt, Maryland 20771 USA\\n', Checksum=False, Num_rdim=0, rDim_sizes=[], Compressed=False, LeapSecondUpdate=None)"
      ]
     },
     "execution_count": 3,
     "metadata": {},
     "output_type": "execute_result"
    }
   ],
   "source": [
    "cdf_file.cdf_info()"
   ]
  },
  {
   "cell_type": "code",
   "execution_count": 4,
   "metadata": {},
   "outputs": [
    {
     "data": {
      "text/plain": [
       "729"
      ]
     },
     "execution_count": 4,
     "metadata": {},
     "output_type": "execute_result"
    }
   ],
   "source": [
    "time_range= cdflib.cdfepoch.to_datetime(cdf_file.varget('epoch'))\n",
    "len(time_range)"
   ]
  },
  {
   "cell_type": "markdown",
   "metadata": {},
   "source": [
    "**MATPLOTLIB**"
   ]
  },
  {
   "cell_type": "markdown",
   "metadata": {},
   "source": [
    "**Deriving the Parameters**"
   ]
  },
  {
   "cell_type": "code",
   "execution_count": 5,
   "metadata": {},
   "outputs": [],
   "source": [
    "#plotting variables\n",
    "\n",
    "from modules.calparam import *\n",
    "\n",
    "\n",
    "BX,BY,BZ,b_mag = bmagnitude(cdf_file)\n",
    "\n",
    "\n",
    "p_density = thresold(cdf_file.varget('Proton_Np_moment'),1e4)\n",
    "\n",
    "\n",
    "vp = Vp_vec(cdf_file)\n",
    "\n",
    "temp = Temperature(cdf_file)\n",
    "\n",
    "\n",
    "p_beta = plasma_beta(p_density,b_mag,temp)\n",
    "\n",
    "tehta_angle,phi_angle = angels(BX,BY,BZ,b_mag)\n"
   ]
  },
  {
   "cell_type": "code",
   "execution_count": null,
   "metadata": {},
   "outputs": [],
   "source": [
    "from modules.plotter import Plotting\n",
    "\n",
    "plot  = Plotting('test',r'test')\n",
    "\n",
    "plot.ipplot(time_range,b_mag,BX,BY,BZ,tehta_angle,phi_angle,vp,p_density,temp,p_beta)\n"
   ]
  },
  {
   "cell_type": "code",
   "execution_count": null,
   "metadata": {},
   "outputs": [],
   "source": []
  },
  {
   "cell_type": "markdown",
   "metadata": {},
   "source": [
    "# Request 3-days combine dates set logic"
   ]
  },
  {
   "cell_type": "code",
   "execution_count": null,
   "metadata": {},
   "outputs": [],
   "source": [
    "from datetime import datetime, timedelta\n",
    "\n",
    "\n",
    "def read_files_in_date_range(start_date, end_date):\n",
    "    current_date = datetime.strptime(start_date, \"%d-%m-%Y\")\n",
    "    end_date = datetime.strptime(end_date, \"%d-%m-%Y\")\n",
    "\n",
    "    flag =False\n",
    "    count =0\n",
    "\n",
    "    while flag!=True:\n",
    "        \n",
    "        print(current_date)\n",
    "        loop_date = current_date\n",
    " \n",
    "        date_log = []\n",
    "        for day in range(1,4):\n",
    "            date_log.append(loop_date.strftime(\"%Y%m%d\"))\n",
    "\n",
    "            if end_date.strftime(\"%Y%m%d\") in date_log:\n",
    "                flag = True\n",
    "                loop_date += timedelta(days=1)\n",
    "                break\n",
    "\n",
    "            loop_date += timedelta(days=1)\n",
    "        \n",
    "        start_trange = date_log[0]\n",
    "        last_trange = loop_date.strftime(\"%Y%m%d\")\n",
    "\n",
    "        print(start_trange,last_trange)\n",
    "\n",
    "        \n",
    "\n",
    "        count+=1\n",
    "        date_log =[]\n",
    "        current_date += timedelta(days=1)\n",
    "\n",
    "    return count\n",
    "\n",
    "\n",
    "\n",
    "st  = '01-12-2003'\n",
    "end = '31-12-2003'\n",
    "\n",
    "\n",
    "\n",
    "\n",
    "test =  read_files_in_date_range(st, end)\n"
   ]
  },
  {
   "cell_type": "markdown",
   "metadata": {},
   "source": [
    "# Master data scrapper"
   ]
  },
  {
   "cell_type": "code",
   "execution_count": null,
   "metadata": {},
   "outputs": [],
   "source": [
    "from datetime import datetime, timedelta\n",
    "import pandas as pd\n",
    "\n",
    "#list excel of dataset ->\n",
    "import requests\n",
    "from bs4 import BeautifulSoup as bs\n",
    "\n",
    "data_list =requests.get('https://cdaweb.gsfc.nasa.gov/pub/data/wind/swe/swe_h1/')\n",
    "data_list\n",
    "\n",
    "years = []\n",
    "for yr in bs(data_list.content).find_all('a')[4:]:\n",
    "    years.append(yr.text[:-1])\n",
    "\n",
    "    \n",
    "\n",
    "dt = pd.DataFrame({\"SWE_H1_YEARS\":years})\n",
    "dt.to_csv('dataset_swe_range.csv',index=False)\n",
    "\n",
    "\n",
    "\n",
    "data_year = pd.read_csv('dataset_swe_range.csv')['SWE_H1_YEARS']\n",
    "\n",
    "\n",
    "dt =[]\n",
    "yr =[]\n",
    "file =[]\n",
    "head = True\n",
    "for yrs in data_year:\n",
    "    url =f'https://cdaweb.gsfc.nasa.gov/pub/data/wind/swe/swe_h1/{yrs}'\n",
    "\n",
    "    dataset_response = requests.get(url)\n",
    "    name_list = [i.text for i in bs(dataset_response.content).find_all('td') if i.text[-3:] =='cdf']\n",
    "    print(\"Year -------------->\",yrs)\n",
    "    \n",
    "    for days in name_list:\n",
    " \n",
    "        dat = datetime.strptime(days.split('_')[3], \"%Y%m%d\")\n",
    "        format_date = dat.strftime(\"%d-%m-%Y\")\n",
    "\n",
    "        year = dat.strftime(\"%Y\")\n",
    "\n",
    "        dt.append(format_date)\n",
    "        yr.append(year)\n",
    "        file.append(days)\\\n",
    "\n",
    "    df = pd.DataFrame({\"Year\":yr,\"Date\": dt,'CDF_FILE':file})\n",
    "    \n",
    "    df.to_csv(\"Master_Dataset_SWE_H1_v2.csv\", index=False,mode='a',header=head)\n",
    "    head=False \n",
    "\n",
    "    dt =[]\n",
    "    yr =[]\n",
    "    file =[]\n",
    "\n",
    "    \n",
    "\n",
    "\n",
    "\n",
    " "
   ]
  },
  {
   "cell_type": "code",
   "execution_count": 185,
   "metadata": {},
   "outputs": [
    {
     "data": {
      "image/png": "[encoded data removed]",
      "text/plain": [
       "<Figure size 2200x600 with 1 Axes>"
      ]
     },
     "metadata": {},
     "output_type": "display_data"
    }
   ],
   "source": [
    "import matplotlib.pyplot as plt\n",
    "import matplotlib.dates as mdates\n",
    "import numpy as np\n",
    "\n",
    "\n",
    "time_range= cdflib.cdfepoch.to_datetime(cdf_file.varget('epoch'))\n",
    "\n",
    "\n",
    "plt.figure(figsize=(22,6))\n",
    "plt.ylim(-30,30)\n",
    "plt.plot(time_range,cdf_file[\"BX\"],color='red',label='BX')\n",
    "\n",
    "# Add legend\n",
    "plt.legend()\n",
    "plt.gca().xaxis.set_major_locator(mdates.HourLocator(interval=10))\n",
    "\n",
    "plt.show()"
   ]
  },
  {
   "cell_type": "code",
   "execution_count": null,
   "metadata": {},
   "outputs": [],
   "source": [
    "# from modules.plotter import Plotting\n",
    "# import matplotlib.pyplot as plt\n",
    "# # plt.ioff()\n",
    "# plot  = Plotting()\n",
    "\n",
    "# t = plot.ipplot(days_3['t_range'],b_mag,BX,BY,BZ,tehta_angle,phi_angle,vp,p_density,temp,p_beta)\n",
    "\n",
    "# t.savefig('myimage2.jpg', format='jpg', dpi=300)"
   ]
  },
  {
   "cell_type": "code",
   "execution_count": 8,
   "metadata": {},
   "outputs": [],
   "source": [
    "import cdflib\n",
    "\n",
    "cdf  = cdflib.CDF(r\"download\\combined\\1994\\wi_h1_swe_19941117 - 19941119.cdf\")"
   ]
  },
  {
   "cell_type": "code",
   "execution_count": 10,
   "metadata": {},
   "outputs": [],
   "source": [
    "time_range= cdflib.cdfepoch.to_datetime(cdf_file.varget('epoch'))"
   ]
  },
  {
   "cell_type": "code",
   "execution_count": 12,
   "metadata": {},
   "outputs": [
    {
     "data": {
      "text/plain": [
       "numpy.datetime64('1994-11-18T00:01:44.121000')"
      ]
     },
     "execution_count": 12,
     "metadata": {},
     "output_type": "execute_result"
    }
   ],
   "source": [
    "time_range[0]"
   ]
  },
  {
   "cell_type": "code",
   "execution_count": null,
   "metadata": {},
   "outputs": [],
   "source": []
  }
 ],
 "metadata": {
  "kernelspec": {
   "display_name": "swe_ip",
   "language": "python",
   "name": "python3"
  },
  "language_info": {
   "codemirror_mode": {
    "name": "ipython",
    "version": 3
   },
   "file_extension": ".py",
   "mimetype": "text/x-python",
   "name": "python",
   "nbconvert_exporter": "python",
   "pygments_lexer": "ipython3",
   "version": "3.12.2"
  }
 },
 "nbformat": 4,
 "nbformat_minor": 2
}
