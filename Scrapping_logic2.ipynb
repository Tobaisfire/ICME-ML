{
 "cells": [
  {
   "cell_type": "code",
   "execution_count": 1,
   "metadata": {},
   "outputs": [],
   "source": [
    "import requests\n",
    "from bs4 import BeautifulSoup as bs"
   ]
  },
  {
   "cell_type": "code",
   "execution_count": 17,
   "metadata": {},
   "outputs": [],
   "source": [
    "url ='https://cdaweb.gsfc.nasa.gov/pub/data/wind/swe/swe_h1/2004'\n",
    "\n",
    "dataset_response = requests.get(url)\n",
    "name_list = [i.text for i in bs(dataset_response.content).find_all('td') if i.text[-3:] =='cdf']"
   ]
  },
  {
   "cell_type": "code",
   "execution_count": 18,
   "metadata": {},
   "outputs": [
    {
     "data": {
      "text/plain": [
       "364"
      ]
     },
     "execution_count": 18,
     "metadata": {},
     "output_type": "execute_result"
    }
   ],
   "source": [
    "len(name_list)"
   ]
  },
  {
   "cell_type": "code",
   "execution_count": null,
   "metadata": {},
   "outputs": [],
   "source": [
    "import requests\n",
    "from concurrent.futures import ThreadPoolExecutor\n",
    "\n",
    "\n",
    "\n",
    "#len(name_list) =365\n",
    "\n",
    "year  = '2002'\n",
    "def download_file(name):\n",
    "    try:\n",
    "        response = requests.get(f'https://cdaweb.gsfc.nasa.gov/pub/data/wind/swe/swe_h1/{year}/{name}')\n",
    "        with open(f'down_test\\\\{year}\\\\{name}', 'wb') as fp:\n",
    "            fp.write(response.content)\n",
    "        \n",
    "        print(f\"Downloaded: {name}\")\n",
    "    except Exception as e:\n",
    "        print(f\"Error downloading {name}: {e}\")\n",
    "\n",
    "def download_files_with_threadpool(name_list):\n",
    "    with ThreadPoolExecutor() as executor:\n",
    "        executor.map(download_file, name_list)\n",
    "\n",
    "download_files_with_threadpool(name_list)\n"
   ]
  },
  {
   "cell_type": "code",
   "execution_count": null,
   "metadata": {},
   "outputs": [],
   "source": [
    "import requests\n",
    "from concurrent.futures import ThreadPoolExecutor\n",
    "import math\n",
    "\n",
    "year = '2004'\n",
    "MAX_RETRIES = 3  \n",
    "def download_file(name):\n",
    "    retries = 0\n",
    "    while retries < MAX_RETRIES:\n",
    "        try:\n",
    "            response = requests.get(f'https://cdaweb.gsfc.nasa.gov/pub/data/wind/swe/swe_h1/{year}/{name}')\n",
    "            if response.status_code == 200:\n",
    "                with open(f'down_test\\\\{year}\\\\{name}', 'wb') as fp:\n",
    "                    fp.write(response.content)\n",
    "                print(f\"Downloaded: {name}\")\n",
    "\n",
    "                break\n",
    "            else:\n",
    "                print(f\"Error downloading {name}: Got status code {response.status_code}\")\n",
    "        except Exception as e:\n",
    "            print(f\"Error downloading {name}: {e}\")\n",
    "        \n",
    "        retries += 1\n",
    "        print(f\"Retrying ({retries}/{MAX_RETRIES})...\")\n",
    "    \n",
    "\n",
    "\n",
    "progress = len(name_list)\n",
    "def download_files_with_threadpool(name_list, max_workers=10):\n",
    "    chunk_size = math.ceil(len(name_list) / max_workers)\n",
    "    chunks = [name_list[i:i+chunk_size] for i in range(0, len(name_list), chunk_size)]\n",
    "\n",
    "    with ThreadPoolExecutor(max_workers=max_workers) as executor:\n",
    "        for chunk in chunks:\n",
    "            executor.map(download_file, chunk)\n",
    "\n",
    "\n",
    "download_files_with_threadpool(name_list, max_workers=10)\n"
   ]
  },
  {
   "cell_type": "code",
   "execution_count": null,
   "metadata": {},
   "outputs": [],
   "source": []
  }
 ],
 "metadata": {
  "kernelspec": {
   "display_name": "swe_ip",
   "language": "python",
   "name": "python3"
  },
  "language_info": {
   "codemirror_mode": {
    "name": "ipython",
    "version": 3
   },
   "file_extension": ".py",
   "mimetype": "text/x-python",
   "name": "python",
   "nbconvert_exporter": "python",
   "pygments_lexer": "ipython3",
   "version": "3.12.2"
  }
 },
 "nbformat": 4,
 "nbformat_minor": 2
}
